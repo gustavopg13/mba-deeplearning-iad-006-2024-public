{
 "cells": [
  {
   "cell_type": "code",
   "execution_count": null,
   "metadata": {},
   "outputs": [],
   "source": [
    "pip install pillow requests"
   ]
  },
  {
   "cell_type": "code",
   "execution_count": 5,
   "metadata": {},
   "outputs": [
    {
     "name": "stdout",
     "output_type": "stream",
     "text": [
      "{'status': 'ok'}\n"
     ]
    }
   ],
   "source": [
    "import requests\n",
    "# Envie a requisição POST para a API\n",
    "response = requests.get(\"http://localhost:8000/healthcheck\")\n",
    "\n",
    "# Verifique a resposta\n",
    "if response.status_code == 200:\n",
    "    prediction = response.json()\n",
    "    print(prediction)\n",
    "else:\n",
    "    print(f\"Erro: {response.status_code}, {response.text}\")"
   ]
  },
  {
   "cell_type": "code",
   "execution_count": 6,
   "metadata": {},
   "outputs": [
    {
     "data": {
      "image/png": "[encoded data removed]",
      "text/plain": [
       "<PIL.Image.Image image mode=RGBA size=8x8>"
      ]
     },
     "metadata": {},
     "output_type": "display_data"
    }
   ],
   "source": [
    "import os\n",
    "from PIL import Image\n",
    "\n",
    "# Verifique se o arquivo existe no caminho especificado\n",
    "file_path = \"/workspaces/mba-deeplearning-iad-006-2024-public/imagens/imagem_positiva.png\"\n",
    "\n",
    "if os.path.exists(file_path):\n",
    "    # Carregue a imagem\n",
    "    img = Image.open(file_path)\n",
    "\n",
    "    # Redimensione a imagem para 8x8 pixels\n",
    "    img = img.resize((8, 8))\n",
    "    img.show()  # Isso exibirá a imagem redimensionada\n",
    "else:\n",
    "    print(f\"O arquivo {file_path} não foi encontrado. Verifique o caminho.\")"
   ]
  },
  {
   "cell_type": "code",
   "execution_count": 7,
   "metadata": {},
   "outputs": [
    {
     "name": "stdout",
     "output_type": "stream",
     "text": [
      "Predição: 0\n"
     ]
    }
   ],
   "source": [
    "import requests\n",
    "import base64\n",
    "from PIL import Image\n",
    "import io\n",
    "\n",
    "# Carregue a imagem\n",
    "img = Image.open(\"/workspaces/mba-deeplearning-iad-006-2024-public/imagens/imagem_positiva.png\")\n",
    "\n",
    "# Redimensione a imagem para 8x8 pixels\n",
    "img = img.resize((8, 8))\n",
    "\n",
    "# Converta a imagem redimensionada para bytes\n",
    "buffered = io.BytesIO()\n",
    "img.save(buffered, format=\"PNG\")\n",
    "img_bytes = buffered.getvalue()\n",
    "\n",
    "# Codifique a imagem em base64\n",
    "encoded_string = base64.b64encode(img_bytes).decode('utf-8')\n",
    "\n",
    "# Crie o payload para a requisição\n",
    "payload = {\n",
    "    \"image\": encoded_string\n",
    "}\n",
    "\n",
    "# Envie a requisição POST para a API\n",
    "response = requests.post(\"http://localhost:8000/predict\", json=payload)\n",
    "\n",
    "# Verifique a resposta\n",
    "if response.status_code == 200:\n",
    "    prediction = response.json()\n",
    "    print(f\"Predição: {prediction['prediction']}\")\n",
    "else:\n",
    "    print(f\"Erro: {response.status_code}, {response.text}\")"
   ]
  },
  {
   "cell_type": "code",
   "execution_count": 8,
   "metadata": {},
   "outputs": [
    {
     "name": "stdout",
     "output_type": "stream",
     "text": [
      "Predição: 0\n"
     ]
    }
   ],
   "source": [
    "import requests\n",
    "import base64\n",
    "from PIL import Image\n",
    "import io\n",
    "\n",
    "# Carregue a imagem\n",
    "img = Image.open(\"/workspaces/mba-deeplearning-iad-006-2024-public/imagens/imagem_positiva_ruido.png\")\n",
    "\n",
    "# Redimensione a imagem para 8x8 pixels\n",
    "img = img.resize((8, 8))\n",
    "\n",
    "# Converta a imagem redimensionada para bytes\n",
    "buffered = io.BytesIO()\n",
    "img.save(buffered, format=\"PNG\")\n",
    "img_bytes = buffered.getvalue()\n",
    "\n",
    "# Codifique a imagem em base64\n",
    "encoded_string = base64.b64encode(img_bytes).decode('utf-8')\n",
    "\n",
    "# Crie o payload para a requisição\n",
    "payload = {\n",
    "    \"image\": encoded_string\n",
    "}\n",
    "\n",
    "# Envie a requisição POST para a API\n",
    "response = requests.post(\"http://localhost:8000/predict\", json=payload)\n",
    "\n",
    "# Verifique a resposta\n",
    "if response.status_code == 200:\n",
    "    prediction = response.json()\n",
    "    print(f\"Predição: {prediction['prediction']}\")\n",
    "else:\n",
    "    print(f\"Erro: {response.status_code}, {response.text}\")"
   ]
  },
  {
   "cell_type": "code",
   "execution_count": 9,
   "metadata": {},
   "outputs": [
    {
     "name": "stdout",
     "output_type": "stream",
     "text": [
      "Predição: 4\n"
     ]
    }
   ],
   "source": [
    "import requests\n",
    "import base64\n",
    "from PIL import Image\n",
    "import io\n",
    "\n",
    "# Carregue a imagem\n",
    "img = Image.open(\"/workspaces/mba-deeplearning-iad-006-2024-public/imagens/imagem_negativa.png\")\n",
    "\n",
    "# Redimensione a imagem para 8x8 pixels\n",
    "img = img.resize((8, 8))\n",
    "\n",
    "# Converta a imagem redimensionada para bytes\n",
    "buffered = io.BytesIO()\n",
    "img.save(buffered, format=\"PNG\")\n",
    "img_bytes = buffered.getvalue()\n",
    "\n",
    "# Codifique a imagem em base64\n",
    "encoded_string = base64.b64encode(img_bytes).decode('utf-8')\n",
    "\n",
    "# Crie o payload para a requisição\n",
    "payload = {\n",
    "    \"image\": encoded_string\n",
    "}\n",
    "\n",
    "# Envie a requisição POST para a API\n",
    "response = requests.post(\"http://localhost:8000/predict\", json=payload)\n",
    "\n",
    "# Verifique a resposta\n",
    "if response.status_code == 200:\n",
    "    prediction = response.json()\n",
    "    print(f\"Predição: {prediction['prediction']}\")\n",
    "else:\n",
    "    print(f\"Erro: {response.status_code}, {response.text}\")"
   ]
  },
  {
   "cell_type": "code",
   "execution_count": 14,
   "metadata": {},
   "outputs": [
    {
     "name": "stdout",
     "output_type": "stream",
     "text": [
      "Predição: 0\n"
     ]
    }
   ],
   "source": [
    "import requests\n",
    "import base64\n",
    "from PIL import Image\n",
    "import io\n",
    "\n",
    "# Carregue a imagem\n",
    "img = Image.open(\"/workspaces/mba-deeplearning-iad-006-2024-public/imagens/numero_1.png\")\n",
    "\n",
    "# Redimensione a imagem para 8x8 pixels\n",
    "img = img.resize((8, 8))\n",
    "\n",
    "# Converta a imagem redimensionada para bytes\n",
    "buffered = io.BytesIO()\n",
    "img.save(buffered, format=\"PNG\")\n",
    "img_bytes = buffered.getvalue()\n",
    "\n",
    "# Codifique a imagem em base64\n",
    "encoded_string = base64.b64encode(img_bytes).decode('utf-8')\n",
    "\n",
    "# Crie o payload para a requisição\n",
    "payload = {\n",
    "    \"image\": encoded_string\n",
    "}\n",
    "\n",
    "# Envie a requisição POST para a API\n",
    "response = requests.post(\"http://localhost:8000/predict\", json=payload)\n",
    "\n",
    "# Verifique a resposta\n",
    "if response.status_code == 200:\n",
    "    prediction = response.json()\n",
    "    print(f\"Predição: {prediction['prediction']}\")\n",
    "else:\n",
    "    print(f\"Erro: {response.status_code}, {response.text}\")"
   ]
  }
 ],
 "metadata": {
  "kernelspec": {
   "display_name": "Python 3 (ipykernel)",
   "language": "python",
   "name": "python3"
  },
  "language_info": {
   "codemirror_mode": {
    "name": "ipython",
    "version": 3
   },
   "file_extension": ".py",
   "mimetype": "text/x-python",
   "name": "python",
   "nbconvert_exporter": "python",
   "pygments_lexer": "ipython3",
   "version": "3.10.13"
  }
 },
 "nbformat": 4,
 "nbformat_minor": 2
}
